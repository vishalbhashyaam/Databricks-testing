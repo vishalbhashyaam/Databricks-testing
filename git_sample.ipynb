{
 "cells": [
  {
   "cell_type": "code",
   "execution_count": 0,
   "metadata": {
    "application/vnd.databricks.v1+cell": {
     "cellMetadata": {
      "byteLimit": 2048000,
      "rowLimit": 10000
     },
     "inputWidgets": {},
     "nuid": "e58941d6-6869-4d71-8be6-f17d9097dae6",
     "showTitle": false,
     "tableResultSettingsMap": {},
     "title": ""
    }
   },
   "outputs": [],
   "source": [
    "print('Hello')"
   ]
  },
  {
   "cell_type": "code",
   "execution_count": 0,
   "metadata": {
    "application/vnd.databricks.v1+cell": {
     "cellMetadata": {
      "byteLimit": 2048000,
      "rowLimit": 10000
     },
     "inputWidgets": {},
     "nuid": "34467a6b-ce89-45d3-87b5-ce267c5d4698",
     "showTitle": false,
     "tableResultSettingsMap": {},
     "title": ""
    }
   },
   "outputs": [],
   "source": [
    "arr = [1, 2, 4, 5]\n",
    "sub = [2, 10]\n",
    "\n",
    "arr_set = set(arr)\n",
    "is_subset = True\n",
    "\n",
    "for item in sub:\n",
    "    if item not in arr_set:\n",
    "        is_subset = False\n",
    "        break\n",
    "\n",
    "if is_subset:\n",
    "    print(\"Subset is present in arr\")\n",
    "else:\n",
    "    print(\"Subset is not present in arr\")\n",
    "\n",
    "# Time complexity: O(n + m), where n is the length of arr and m is the length of sub"
   ]
  },
  {
   "cell_type": "code",
   "execution_count": 0,
   "metadata": {
    "application/vnd.databricks.v1+cell": {
     "cellMetadata": {},
     "inputWidgets": {},
     "nuid": "f65cd412-0a6d-40a0-9d04-7915d9c34381",
     "showTitle": false,
     "tableResultSettingsMap": {},
     "title": ""
    }
   },
   "outputs": [],
   "source": []
  }
 ],
 "metadata": {
  "application/vnd.databricks.v1+notebook": {
   "computePreferences": null,
   "dashboards": [],
   "environmentMetadata": {
    "base_environment": "",
    "environment_version": "2"
   },
   "inputWidgetPreferences": null,
   "language": "python",
   "notebookMetadata": {
    "pythonIndentUnit": 4
   },
   "notebookName": "git_sample",
   "widgets": {}
  },
  "language_info": {
   "name": "python"
  }
 },
 "nbformat": 4,
 "nbformat_minor": 0
}
